{
  "cells": [
    {
      "cell_type": "markdown",
      "metadata": {
        "id": "7L-KnEz7HTB9"
      },
      "source": [
        "IMPORTING REQUIRED LIBRARIES"
      ]
    },
    {
      "cell_type": "code",
      "execution_count": 3,
      "metadata": {
        "id": "hBMZKBOQBg6p"
      },
      "outputs": [],
      "source": [
        "import pandas as pd"
      ]
    },
    {
      "cell_type": "markdown",
      "metadata": {
        "id": "pL7-4KXhHNWI"
      },
      "source": [
        "READING CSV"
      ]
    },
    {
      "cell_type": "code",
      "execution_count": 4,
      "metadata": {
        "id": "yBxLavR8Bptx"
      },
      "outputs": [],
      "source": [
        "providers = pd.read_csv('/Users/dathril/Desktop/localfoodwaste_managementproject/providers_data (2).csv')\n",
        "receivers = pd.read_csv('/Users/dathril/Desktop/localfoodwaste_managementproject/receivers_data (1).csv')\n",
        "food_listings = pd.read_csv('/Users/dathril/Desktop/localfoodwaste_managementproject/food_listings_data.csv')\n",
        "claims = pd.read_csv('/Users/dathril/Desktop/localfoodwaste_managementproject/claims_data (1).csv')"
      ]
    },
    {
      "cell_type": "markdown",
      "metadata": {
        "id": "iRVKnxhMHLIM"
      },
      "source": [
        "DATA VALUES"
      ]
    },
    {
      "cell_type": "code",
      "execution_count": 5,
      "metadata": {
        "colab": {
          "base_uri": "https://localhost:8080/",
          "height": 206
        },
        "id": "RQT7GAGaEwQq",
        "outputId": "c0064a74-4d51-4c33-c8fc-7fed5e5a3ea2"
      },
      "outputs": [
        {
          "data": {
            "text/html": [
              "<div>\n",
              "<style scoped>\n",
              "    .dataframe tbody tr th:only-of-type {\n",
              "        vertical-align: middle;\n",
              "    }\n",
              "\n",
              "    .dataframe tbody tr th {\n",
              "        vertical-align: top;\n",
              "    }\n",
              "\n",
              "    .dataframe thead th {\n",
              "        text-align: right;\n",
              "    }\n",
              "</style>\n",
              "<table border=\"1\" class=\"dataframe\">\n",
              "  <thead>\n",
              "    <tr style=\"text-align: right;\">\n",
              "      <th></th>\n",
              "      <th>Provider_ID</th>\n",
              "      <th>Name</th>\n",
              "      <th>Type</th>\n",
              "      <th>Address</th>\n",
              "      <th>City</th>\n",
              "      <th>Contact</th>\n",
              "    </tr>\n",
              "  </thead>\n",
              "  <tbody>\n",
              "    <tr>\n",
              "      <th>0</th>\n",
              "      <td>1</td>\n",
              "      <td>Gonzales-Cochran</td>\n",
              "      <td>Supermarket</td>\n",
              "      <td>74347 Christopher Extensions\\nAndreamouth, OK ...</td>\n",
              "      <td>New Jessica</td>\n",
              "      <td>+1-600-220-0480</td>\n",
              "    </tr>\n",
              "    <tr>\n",
              "      <th>1</th>\n",
              "      <td>2</td>\n",
              "      <td>Nielsen, Johnson and Fuller</td>\n",
              "      <td>Grocery Store</td>\n",
              "      <td>91228 Hanson Stream\\nWelchtown, OR 27136</td>\n",
              "      <td>East Sheena</td>\n",
              "      <td>+1-925-283-8901x6297</td>\n",
              "    </tr>\n",
              "    <tr>\n",
              "      <th>2</th>\n",
              "      <td>3</td>\n",
              "      <td>Miller-Black</td>\n",
              "      <td>Supermarket</td>\n",
              "      <td>561 Martinez Point Suite 507\\nGuzmanchester, W...</td>\n",
              "      <td>Lake Jesusview</td>\n",
              "      <td>001-517-295-2206</td>\n",
              "    </tr>\n",
              "    <tr>\n",
              "      <th>3</th>\n",
              "      <td>4</td>\n",
              "      <td>Clark, Prince and Williams</td>\n",
              "      <td>Grocery Store</td>\n",
              "      <td>467 Bell Trail Suite 409\\nPort Jesus, IA 61188</td>\n",
              "      <td>Mendezmouth</td>\n",
              "      <td>556.944.8935x401</td>\n",
              "    </tr>\n",
              "    <tr>\n",
              "      <th>4</th>\n",
              "      <td>5</td>\n",
              "      <td>Coleman-Farley</td>\n",
              "      <td>Grocery Store</td>\n",
              "      <td>078 Matthew Creek Apt. 319\\nSaraborough, MA 53978</td>\n",
              "      <td>Valentineside</td>\n",
              "      <td>193.714.6577</td>\n",
              "    </tr>\n",
              "  </tbody>\n",
              "</table>\n",
              "</div>"
            ],
            "text/plain": [
              "   Provider_ID                         Name           Type  \\\n",
              "0            1             Gonzales-Cochran    Supermarket   \n",
              "1            2  Nielsen, Johnson and Fuller  Grocery Store   \n",
              "2            3                 Miller-Black    Supermarket   \n",
              "3            4   Clark, Prince and Williams  Grocery Store   \n",
              "4            5               Coleman-Farley  Grocery Store   \n",
              "\n",
              "                                             Address            City  \\\n",
              "0  74347 Christopher Extensions\\nAndreamouth, OK ...     New Jessica   \n",
              "1           91228 Hanson Stream\\nWelchtown, OR 27136     East Sheena   \n",
              "2  561 Martinez Point Suite 507\\nGuzmanchester, W...  Lake Jesusview   \n",
              "3     467 Bell Trail Suite 409\\nPort Jesus, IA 61188     Mendezmouth   \n",
              "4  078 Matthew Creek Apt. 319\\nSaraborough, MA 53978   Valentineside   \n",
              "\n",
              "                Contact  \n",
              "0       +1-600-220-0480  \n",
              "1  +1-925-283-8901x6297  \n",
              "2      001-517-295-2206  \n",
              "3      556.944.8935x401  \n",
              "4          193.714.6577  "
            ]
          },
          "execution_count": 5,
          "metadata": {},
          "output_type": "execute_result"
        }
      ],
      "source": [
        "providers.head()"
      ]
    },
    {
      "cell_type": "code",
      "execution_count": 6,
      "metadata": {
        "colab": {
          "base_uri": "https://localhost:8080/",
          "height": 206
        },
        "id": "YSIO-yAeE334",
        "outputId": "fa3aeb71-c7ad-4c9c-cae7-962e6767764b"
      },
      "outputs": [
        {
          "data": {
            "text/html": [
              "<div>\n",
              "<style scoped>\n",
              "    .dataframe tbody tr th:only-of-type {\n",
              "        vertical-align: middle;\n",
              "    }\n",
              "\n",
              "    .dataframe tbody tr th {\n",
              "        vertical-align: top;\n",
              "    }\n",
              "\n",
              "    .dataframe thead th {\n",
              "        text-align: right;\n",
              "    }\n",
              "</style>\n",
              "<table border=\"1\" class=\"dataframe\">\n",
              "  <thead>\n",
              "    <tr style=\"text-align: right;\">\n",
              "      <th></th>\n",
              "      <th>Receiver_ID</th>\n",
              "      <th>Name</th>\n",
              "      <th>Type</th>\n",
              "      <th>City</th>\n",
              "      <th>Contact</th>\n",
              "    </tr>\n",
              "  </thead>\n",
              "  <tbody>\n",
              "    <tr>\n",
              "      <th>0</th>\n",
              "      <td>1</td>\n",
              "      <td>Donald Gomez</td>\n",
              "      <td>Shelter</td>\n",
              "      <td>Port Carlburgh</td>\n",
              "      <td>(955)922-5295</td>\n",
              "    </tr>\n",
              "    <tr>\n",
              "      <th>1</th>\n",
              "      <td>2</td>\n",
              "      <td>Laurie Ramos</td>\n",
              "      <td>Individual</td>\n",
              "      <td>Lewisburgh</td>\n",
              "      <td>761.042.1570</td>\n",
              "    </tr>\n",
              "    <tr>\n",
              "      <th>2</th>\n",
              "      <td>3</td>\n",
              "      <td>Ashley Mckee</td>\n",
              "      <td>NGO</td>\n",
              "      <td>South Randalltown</td>\n",
              "      <td>691-023-0094x856</td>\n",
              "    </tr>\n",
              "    <tr>\n",
              "      <th>3</th>\n",
              "      <td>4</td>\n",
              "      <td>Erika Rose</td>\n",
              "      <td>NGO</td>\n",
              "      <td>South Shaneville</td>\n",
              "      <td>8296491111</td>\n",
              "    </tr>\n",
              "    <tr>\n",
              "      <th>4</th>\n",
              "      <td>5</td>\n",
              "      <td>John Romero</td>\n",
              "      <td>Individual</td>\n",
              "      <td>Bakerport</td>\n",
              "      <td>067.491.0154</td>\n",
              "    </tr>\n",
              "  </tbody>\n",
              "</table>\n",
              "</div>"
            ],
            "text/plain": [
              "   Receiver_ID          Name        Type               City           Contact\n",
              "0            1  Donald Gomez     Shelter     Port Carlburgh     (955)922-5295\n",
              "1            2  Laurie Ramos  Individual         Lewisburgh      761.042.1570\n",
              "2            3  Ashley Mckee         NGO  South Randalltown  691-023-0094x856\n",
              "3            4    Erika Rose         NGO   South Shaneville        8296491111\n",
              "4            5   John Romero  Individual          Bakerport      067.491.0154"
            ]
          },
          "execution_count": 6,
          "metadata": {},
          "output_type": "execute_result"
        }
      ],
      "source": [
        "receivers.head()"
      ]
    },
    {
      "cell_type": "code",
      "execution_count": 7,
      "metadata": {
        "colab": {
          "base_uri": "https://localhost:8080/",
          "height": 206
        },
        "id": "HoimbCMGE8JE",
        "outputId": "20c5bc07-e2e0-40ab-c274-0d788da01806"
      },
      "outputs": [
        {
          "data": {
            "text/html": [
              "<div>\n",
              "<style scoped>\n",
              "    .dataframe tbody tr th:only-of-type {\n",
              "        vertical-align: middle;\n",
              "    }\n",
              "\n",
              "    .dataframe tbody tr th {\n",
              "        vertical-align: top;\n",
              "    }\n",
              "\n",
              "    .dataframe thead th {\n",
              "        text-align: right;\n",
              "    }\n",
              "</style>\n",
              "<table border=\"1\" class=\"dataframe\">\n",
              "  <thead>\n",
              "    <tr style=\"text-align: right;\">\n",
              "      <th></th>\n",
              "      <th>Claim_ID</th>\n",
              "      <th>Food_ID</th>\n",
              "      <th>Receiver_ID</th>\n",
              "      <th>Status</th>\n",
              "      <th>Timestamp</th>\n",
              "    </tr>\n",
              "  </thead>\n",
              "  <tbody>\n",
              "    <tr>\n",
              "      <th>0</th>\n",
              "      <td>1</td>\n",
              "      <td>164</td>\n",
              "      <td>908</td>\n",
              "      <td>Pending</td>\n",
              "      <td>3/5/2025 5:26</td>\n",
              "    </tr>\n",
              "    <tr>\n",
              "      <th>1</th>\n",
              "      <td>2</td>\n",
              "      <td>353</td>\n",
              "      <td>391</td>\n",
              "      <td>Cancelled</td>\n",
              "      <td>3/11/2025 10:24</td>\n",
              "    </tr>\n",
              "    <tr>\n",
              "      <th>2</th>\n",
              "      <td>3</td>\n",
              "      <td>626</td>\n",
              "      <td>492</td>\n",
              "      <td>Completed</td>\n",
              "      <td>3/21/2025 0:59</td>\n",
              "    </tr>\n",
              "    <tr>\n",
              "      <th>3</th>\n",
              "      <td>4</td>\n",
              "      <td>61</td>\n",
              "      <td>933</td>\n",
              "      <td>Cancelled</td>\n",
              "      <td>3/4/2025 9:08</td>\n",
              "    </tr>\n",
              "    <tr>\n",
              "      <th>4</th>\n",
              "      <td>5</td>\n",
              "      <td>345</td>\n",
              "      <td>229</td>\n",
              "      <td>Pending</td>\n",
              "      <td>3/14/2025 15:17</td>\n",
              "    </tr>\n",
              "  </tbody>\n",
              "</table>\n",
              "</div>"
            ],
            "text/plain": [
              "   Claim_ID  Food_ID  Receiver_ID     Status        Timestamp\n",
              "0         1      164          908    Pending    3/5/2025 5:26\n",
              "1         2      353          391  Cancelled  3/11/2025 10:24\n",
              "2         3      626          492  Completed   3/21/2025 0:59\n",
              "3         4       61          933  Cancelled    3/4/2025 9:08\n",
              "4         5      345          229    Pending  3/14/2025 15:17"
            ]
          },
          "execution_count": 7,
          "metadata": {},
          "output_type": "execute_result"
        }
      ],
      "source": [
        "claims.head()"
      ]
    },
    {
      "cell_type": "code",
      "execution_count": 8,
      "metadata": {
        "colab": {
          "base_uri": "https://localhost:8080/",
          "height": 206
        },
        "id": "_161FAdyE_w1",
        "outputId": "14b94676-2957-49be-cc94-473f5386e3ec"
      },
      "outputs": [
        {
          "data": {
            "text/html": [
              "<div>\n",
              "<style scoped>\n",
              "    .dataframe tbody tr th:only-of-type {\n",
              "        vertical-align: middle;\n",
              "    }\n",
              "\n",
              "    .dataframe tbody tr th {\n",
              "        vertical-align: top;\n",
              "    }\n",
              "\n",
              "    .dataframe thead th {\n",
              "        text-align: right;\n",
              "    }\n",
              "</style>\n",
              "<table border=\"1\" class=\"dataframe\">\n",
              "  <thead>\n",
              "    <tr style=\"text-align: right;\">\n",
              "      <th></th>\n",
              "      <th>Food_ID</th>\n",
              "      <th>Food_Name</th>\n",
              "      <th>Quantity</th>\n",
              "      <th>Expiry_Date</th>\n",
              "      <th>Provider_ID</th>\n",
              "      <th>Provider_Type</th>\n",
              "      <th>Location</th>\n",
              "      <th>Food_Type</th>\n",
              "      <th>Meal_Type</th>\n",
              "    </tr>\n",
              "  </thead>\n",
              "  <tbody>\n",
              "    <tr>\n",
              "      <th>0</th>\n",
              "      <td>1</td>\n",
              "      <td>Bread</td>\n",
              "      <td>43</td>\n",
              "      <td>3/17/2025</td>\n",
              "      <td>110</td>\n",
              "      <td>Grocery Store</td>\n",
              "      <td>South Kellyville</td>\n",
              "      <td>Non-Vegetarian</td>\n",
              "      <td>Breakfast</td>\n",
              "    </tr>\n",
              "    <tr>\n",
              "      <th>1</th>\n",
              "      <td>2</td>\n",
              "      <td>Soup</td>\n",
              "      <td>22</td>\n",
              "      <td>3/24/2025</td>\n",
              "      <td>791</td>\n",
              "      <td>Grocery Store</td>\n",
              "      <td>West James</td>\n",
              "      <td>Non-Vegetarian</td>\n",
              "      <td>Dinner</td>\n",
              "    </tr>\n",
              "    <tr>\n",
              "      <th>2</th>\n",
              "      <td>3</td>\n",
              "      <td>Fruits</td>\n",
              "      <td>46</td>\n",
              "      <td>3/28/2025</td>\n",
              "      <td>478</td>\n",
              "      <td>Catering Service</td>\n",
              "      <td>Lake Regina</td>\n",
              "      <td>Vegan</td>\n",
              "      <td>Breakfast</td>\n",
              "    </tr>\n",
              "    <tr>\n",
              "      <th>3</th>\n",
              "      <td>4</td>\n",
              "      <td>Fruits</td>\n",
              "      <td>15</td>\n",
              "      <td>3/16/2025</td>\n",
              "      <td>930</td>\n",
              "      <td>Restaurant</td>\n",
              "      <td>Kellytown</td>\n",
              "      <td>Vegan</td>\n",
              "      <td>Lunch</td>\n",
              "    </tr>\n",
              "    <tr>\n",
              "      <th>4</th>\n",
              "      <td>5</td>\n",
              "      <td>Soup</td>\n",
              "      <td>14</td>\n",
              "      <td>3/19/2025</td>\n",
              "      <td>279</td>\n",
              "      <td>Restaurant</td>\n",
              "      <td>Garciaport</td>\n",
              "      <td>Vegan</td>\n",
              "      <td>Dinner</td>\n",
              "    </tr>\n",
              "  </tbody>\n",
              "</table>\n",
              "</div>"
            ],
            "text/plain": [
              "   Food_ID Food_Name  Quantity Expiry_Date  Provider_ID     Provider_Type  \\\n",
              "0        1     Bread        43   3/17/2025          110     Grocery Store   \n",
              "1        2      Soup        22   3/24/2025          791     Grocery Store   \n",
              "2        3    Fruits        46   3/28/2025          478  Catering Service   \n",
              "3        4    Fruits        15   3/16/2025          930        Restaurant   \n",
              "4        5      Soup        14   3/19/2025          279        Restaurant   \n",
              "\n",
              "           Location       Food_Type  Meal_Type  \n",
              "0  South Kellyville  Non-Vegetarian  Breakfast  \n",
              "1        West James  Non-Vegetarian     Dinner  \n",
              "2       Lake Regina           Vegan  Breakfast  \n",
              "3         Kellytown           Vegan      Lunch  \n",
              "4        Garciaport           Vegan     Dinner  "
            ]
          },
          "execution_count": 8,
          "metadata": {},
          "output_type": "execute_result"
        }
      ],
      "source": [
        "food_listings.head()"
      ]
    },
    {
      "cell_type": "markdown",
      "metadata": {
        "id": "-lfzBSeYHEvX"
      },
      "source": [
        "CHECKING FOR NULL VALUES"
      ]
    },
    {
      "cell_type": "code",
      "execution_count": 9,
      "metadata": {
        "colab": {
          "base_uri": "https://localhost:8080/"
        },
        "id": "oDVOYdPeFGp_",
        "outputId": "b3d930bd-2e0d-4ca6-9894-abcb87df1363"
      },
      "outputs": [
        {
          "name": "stdout",
          "output_type": "stream",
          "text": [
            "Provider_ID    0\n",
            "Name           0\n",
            "Type           0\n",
            "Address        0\n",
            "City           0\n",
            "Contact        0\n",
            "dtype: int64\n"
          ]
        }
      ],
      "source": [
        "print(providers.isnull().sum())"
      ]
    },
    {
      "cell_type": "code",
      "execution_count": 10,
      "metadata": {
        "colab": {
          "base_uri": "https://localhost:8080/"
        },
        "id": "wRQUO0tzFGrK",
        "outputId": "d3b6a62a-582b-40da-b59c-5b4930afb5c0"
      },
      "outputs": [
        {
          "name": "stdout",
          "output_type": "stream",
          "text": [
            "Receiver_ID    0\n",
            "Name           0\n",
            "Type           0\n",
            "City           0\n",
            "Contact        0\n",
            "dtype: int64\n"
          ]
        }
      ],
      "source": [
        "print(receivers.isnull().sum())"
      ]
    },
    {
      "cell_type": "code",
      "execution_count": 11,
      "metadata": {
        "colab": {
          "base_uri": "https://localhost:8080/"
        },
        "id": "LRb09S8fFT90",
        "outputId": "22e0a781-47ef-485b-c33c-89058533bcb0"
      },
      "outputs": [
        {
          "name": "stdout",
          "output_type": "stream",
          "text": [
            "Claim_ID       0\n",
            "Food_ID        0\n",
            "Receiver_ID    0\n",
            "Status         0\n",
            "Timestamp      0\n",
            "dtype: int64\n"
          ]
        }
      ],
      "source": [
        "print(claims.isnull().sum())"
      ]
    },
    {
      "cell_type": "code",
      "execution_count": 12,
      "metadata": {
        "colab": {
          "base_uri": "https://localhost:8080/"
        },
        "id": "C9ey8p5ZFfkQ",
        "outputId": "347dd680-90a3-434b-95ed-c75392d8ec53"
      },
      "outputs": [
        {
          "name": "stdout",
          "output_type": "stream",
          "text": [
            "Food_ID          0\n",
            "Food_Name        0\n",
            "Quantity         0\n",
            "Expiry_Date      0\n",
            "Provider_ID      0\n",
            "Provider_Type    0\n",
            "Location         0\n",
            "Food_Type        0\n",
            "Meal_Type        0\n",
            "dtype: int64\n"
          ]
        }
      ],
      "source": [
        "print(food_listings.isnull().sum())"
      ]
    },
    {
      "cell_type": "markdown",
      "metadata": {
        "id": "9CTibPGfHiX8"
      },
      "source": [
        "ALL THE COLUMNS ARE FULL NO NULL VALUES SO WE CAN GO AHEAD"
      ]
    },
    {
      "cell_type": "markdown",
      "metadata": {
        "id": "6uqu4hEV232X"
      },
      "source": [
        "connecting to the database"
      ]
    },
    {
      "cell_type": "code",
      "execution_count": 13,
      "metadata": {
        "id": "ZavX6VG4dRXa"
      },
      "outputs": [],
      "source": [
        "import sqlite3\n",
        "conn = sqlite3.connect('food_donation.db')\n",
        "cursor = conn.cursor()\n"
      ]
    },
    {
      "cell_type": "code",
      "execution_count": 14,
      "metadata": {
        "colab": {
          "base_uri": "https://localhost:8080/"
        },
        "id": "VSYnfuYs29JN",
        "outputId": "15b39ea3-2e07-453a-a037-ee078d18d3ad"
      },
      "outputs": [
        {
          "data": {
            "text/plain": [
              "1000"
            ]
          },
          "execution_count": 14,
          "metadata": {},
          "output_type": "execute_result"
        }
      ],
      "source": [
        "providers.to_sql(\"providers\",conn,if_exists='replace',index= False)\n",
        "receivers.to_sql(\"receivers\",conn,if_exists='replace',index=False)\n",
        "claims.to_sql(\"claims\",conn,if_exists='replace',index=False)\n",
        "food_listings.to_sql(\"food_listings\",conn,if_exists='replace',index=False)"
      ]
    },
    {
      "cell_type": "markdown",
      "metadata": {
        "id": "un87KuCHIanX"
      },
      "source": [
        "How many food providers and receivers are there in each city?\n",
        "\n"
      ]
    },
    {
      "cell_type": "code",
      "execution_count": 15,
      "metadata": {
        "colab": {
          "base_uri": "https://localhost:8080/",
          "height": 206
        },
        "id": "3k4AQdWQ5Qc5",
        "outputId": "bc30ae91-0cec-483d-93ef-91f84dcbdc9d"
      },
      "outputs": [
        {
          "data": {
            "text/html": [
              "<div>\n",
              "<style scoped>\n",
              "    .dataframe tbody tr th:only-of-type {\n",
              "        vertical-align: middle;\n",
              "    }\n",
              "\n",
              "    .dataframe tbody tr th {\n",
              "        vertical-align: top;\n",
              "    }\n",
              "\n",
              "    .dataframe thead th {\n",
              "        text-align: right;\n",
              "    }\n",
              "</style>\n",
              "<table border=\"1\" class=\"dataframe\">\n",
              "  <thead>\n",
              "    <tr style=\"text-align: right;\">\n",
              "      <th></th>\n",
              "      <th>City</th>\n",
              "      <th>total_providers</th>\n",
              "    </tr>\n",
              "  </thead>\n",
              "  <tbody>\n",
              "    <tr>\n",
              "      <th>0</th>\n",
              "      <td>Adambury</td>\n",
              "      <td>1</td>\n",
              "    </tr>\n",
              "    <tr>\n",
              "      <th>1</th>\n",
              "      <td>Adamsview</td>\n",
              "      <td>1</td>\n",
              "    </tr>\n",
              "    <tr>\n",
              "      <th>2</th>\n",
              "      <td>Adamsville</td>\n",
              "      <td>1</td>\n",
              "    </tr>\n",
              "    <tr>\n",
              "      <th>3</th>\n",
              "      <td>Aguirreville</td>\n",
              "      <td>1</td>\n",
              "    </tr>\n",
              "    <tr>\n",
              "      <th>4</th>\n",
              "      <td>Alexanderchester</td>\n",
              "      <td>1</td>\n",
              "    </tr>\n",
              "  </tbody>\n",
              "</table>\n",
              "</div>"
            ],
            "text/plain": [
              "               City  total_providers\n",
              "0          Adambury                1\n",
              "1         Adamsview                1\n",
              "2        Adamsville                1\n",
              "3      Aguirreville                1\n",
              "4  Alexanderchester                1"
            ]
          },
          "execution_count": 15,
          "metadata": {},
          "output_type": "execute_result"
        }
      ],
      "source": [
        "query = \"\"\"\n",
        "SELECT city, COUNT(*) AS total_providers\n",
        "FROM providers\n",
        "GROUP BY city;\n",
        "\n",
        "\n",
        "\n",
        "\"\"\"\n",
        "df_joined = pd.read_sql_query(query,conn)\n",
        "df_joined.head()"
      ]
    },
    {
      "cell_type": "code",
      "execution_count": 16,
      "metadata": {
        "colab": {
          "base_uri": "https://localhost:8080/",
          "height": 206
        },
        "id": "wbwj7g2O5Qfd",
        "outputId": "a5380a92-61c7-4bd5-9463-4e026201c694"
      },
      "outputs": [
        {
          "data": {
            "text/html": [
              "<div>\n",
              "<style scoped>\n",
              "    .dataframe tbody tr th:only-of-type {\n",
              "        vertical-align: middle;\n",
              "    }\n",
              "\n",
              "    .dataframe tbody tr th {\n",
              "        vertical-align: top;\n",
              "    }\n",
              "\n",
              "    .dataframe thead th {\n",
              "        text-align: right;\n",
              "    }\n",
              "</style>\n",
              "<table border=\"1\" class=\"dataframe\">\n",
              "  <thead>\n",
              "    <tr style=\"text-align: right;\">\n",
              "      <th></th>\n",
              "      <th>City</th>\n",
              "      <th>total_receivers</th>\n",
              "    </tr>\n",
              "  </thead>\n",
              "  <tbody>\n",
              "    <tr>\n",
              "      <th>0</th>\n",
              "      <td>Aaronshire</td>\n",
              "      <td>1</td>\n",
              "    </tr>\n",
              "    <tr>\n",
              "      <th>1</th>\n",
              "      <td>Adamland</td>\n",
              "      <td>1</td>\n",
              "    </tr>\n",
              "    <tr>\n",
              "      <th>2</th>\n",
              "      <td>Aguilarbury</td>\n",
              "      <td>1</td>\n",
              "    </tr>\n",
              "    <tr>\n",
              "      <th>3</th>\n",
              "      <td>Aguilarstad</td>\n",
              "      <td>1</td>\n",
              "    </tr>\n",
              "    <tr>\n",
              "      <th>4</th>\n",
              "      <td>Alexanderbury</td>\n",
              "      <td>1</td>\n",
              "    </tr>\n",
              "  </tbody>\n",
              "</table>\n",
              "</div>"
            ],
            "text/plain": [
              "            City  total_receivers\n",
              "0     Aaronshire                1\n",
              "1       Adamland                1\n",
              "2    Aguilarbury                1\n",
              "3    Aguilarstad                1\n",
              "4  Alexanderbury                1"
            ]
          },
          "execution_count": 16,
          "metadata": {},
          "output_type": "execute_result"
        }
      ],
      "source": [
        "query = \"\"\"\n",
        "SELECT city, COUNT(*) AS total_receivers\n",
        "FROM receivers\n",
        "GROUP BY city;\n",
        "\n",
        "\n",
        "\n",
        "\"\"\"\n",
        "df_joined = pd.read_sql_query(query,conn)\n",
        "df_joined.head()"
      ]
    },
    {
      "cell_type": "markdown",
      "metadata": {
        "id": "Ox8PvulyIf6e"
      },
      "source": [
        "2.Which type of food provider (restaurant, grocery store, etc.) contributes the most food?"
      ]
    },
    {
      "cell_type": "code",
      "execution_count": 17,
      "metadata": {
        "colab": {
          "base_uri": "https://localhost:8080/",
          "height": 81
        },
        "id": "eWNwnquL5Qhz",
        "outputId": "b5dad830-fee0-42a5-a589-32eeb1b44d4a"
      },
      "outputs": [
        {
          "data": {
            "text/html": [
              "<div>\n",
              "<style scoped>\n",
              "    .dataframe tbody tr th:only-of-type {\n",
              "        vertical-align: middle;\n",
              "    }\n",
              "\n",
              "    .dataframe tbody tr th {\n",
              "        vertical-align: top;\n",
              "    }\n",
              "\n",
              "    .dataframe thead th {\n",
              "        text-align: right;\n",
              "    }\n",
              "</style>\n",
              "<table border=\"1\" class=\"dataframe\">\n",
              "  <thead>\n",
              "    <tr style=\"text-align: right;\">\n",
              "      <th></th>\n",
              "      <th>Type</th>\n",
              "      <th>total_food_contributed</th>\n",
              "    </tr>\n",
              "  </thead>\n",
              "  <tbody>\n",
              "    <tr>\n",
              "      <th>0</th>\n",
              "      <td>Restaurant</td>\n",
              "      <td>6923</td>\n",
              "    </tr>\n",
              "  </tbody>\n",
              "</table>\n",
              "</div>"
            ],
            "text/plain": [
              "         Type  total_food_contributed\n",
              "0  Restaurant                    6923"
            ]
          },
          "execution_count": 17,
          "metadata": {},
          "output_type": "execute_result"
        }
      ],
      "source": [
        "query = \"\"\"\n",
        "SELECT p.type, SUM(f.quantity) AS total_food_contributed\n",
        "FROM providers p\n",
        "JOIN food_listings f ON p.provider_id = f.provider_id\n",
        "GROUP BY p.type\n",
        "ORDER BY total_food_contributed DESC\n",
        "LIMIT 1;\n",
        "\n",
        "\"\"\"\n",
        "df_joined = pd.read_sql_query(query,conn)\n",
        "df_joined.head()"
      ]
    },
    {
      "cell_type": "markdown",
      "metadata": {
        "id": "kyKFAhY8JGv5"
      },
      "source": [
        "3.What is the contact information of food providers in a specific city?\n"
      ]
    },
    {
      "cell_type": "code",
      "execution_count": 18,
      "metadata": {
        "colab": {
          "base_uri": "https://localhost:8080/",
          "height": 53
        },
        "id": "QjyHODCw5Ql-",
        "outputId": "f20f8c6f-9106-4d10-c3ae-bee2b3e0a134"
      },
      "outputs": [
        {
          "data": {
            "text/html": [
              "<div>\n",
              "<style scoped>\n",
              "    .dataframe tbody tr th:only-of-type {\n",
              "        vertical-align: middle;\n",
              "    }\n",
              "\n",
              "    .dataframe tbody tr th {\n",
              "        vertical-align: top;\n",
              "    }\n",
              "\n",
              "    .dataframe thead th {\n",
              "        text-align: right;\n",
              "    }\n",
              "</style>\n",
              "<table border=\"1\" class=\"dataframe\">\n",
              "  <thead>\n",
              "    <tr style=\"text-align: right;\">\n",
              "      <th></th>\n",
              "      <th>Name</th>\n",
              "      <th>Contact</th>\n",
              "    </tr>\n",
              "  </thead>\n",
              "  <tbody>\n",
              "  </tbody>\n",
              "</table>\n",
              "</div>"
            ],
            "text/plain": [
              "Empty DataFrame\n",
              "Columns: [Name, Contact]\n",
              "Index: []"
            ]
          },
          "execution_count": 18,
          "metadata": {},
          "output_type": "execute_result"
        }
      ],
      "source": [
        "query = \"\"\"\n",
        "SELECT name, contact\n",
        "FROM providers\n",
        "WHERE city = 'Ahmedabad';\n",
        "\"\"\"\n",
        "df_joined = pd.read_sql_query(query,conn)\n",
        "df_joined.head()"
      ]
    },
    {
      "cell_type": "markdown",
      "metadata": {
        "id": "gJ2FK809P0vB"
      },
      "source": [
        "4.Which receivers have claimed the most food?\n"
      ]
    },
    {
      "cell_type": "code",
      "execution_count": 19,
      "metadata": {
        "colab": {
          "base_uri": "https://localhost:8080/",
          "height": 206
        },
        "id": "PJBNrgZ15Qrz",
        "outputId": "3d729271-af91-41b9-f6a3-beab55da7db2"
      },
      "outputs": [
        {
          "data": {
            "text/html": [
              "<div>\n",
              "<style scoped>\n",
              "    .dataframe tbody tr th:only-of-type {\n",
              "        vertical-align: middle;\n",
              "    }\n",
              "\n",
              "    .dataframe tbody tr th {\n",
              "        vertical-align: top;\n",
              "    }\n",
              "\n",
              "    .dataframe thead th {\n",
              "        text-align: right;\n",
              "    }\n",
              "</style>\n",
              "<table border=\"1\" class=\"dataframe\">\n",
              "  <thead>\n",
              "    <tr style=\"text-align: right;\">\n",
              "      <th></th>\n",
              "      <th>Name</th>\n",
              "      <th>total_claimed</th>\n",
              "    </tr>\n",
              "  </thead>\n",
              "  <tbody>\n",
              "    <tr>\n",
              "      <th>0</th>\n",
              "      <td>Matthew Webb</td>\n",
              "      <td>191</td>\n",
              "    </tr>\n",
              "    <tr>\n",
              "      <th>1</th>\n",
              "      <td>Donald Caldwell</td>\n",
              "      <td>174</td>\n",
              "    </tr>\n",
              "    <tr>\n",
              "      <th>2</th>\n",
              "      <td>Anthony Garcia</td>\n",
              "      <td>162</td>\n",
              "    </tr>\n",
              "    <tr>\n",
              "      <th>3</th>\n",
              "      <td>Scott Hunter</td>\n",
              "      <td>157</td>\n",
              "    </tr>\n",
              "    <tr>\n",
              "      <th>4</th>\n",
              "      <td>Jennifer Nelson</td>\n",
              "      <td>139</td>\n",
              "    </tr>\n",
              "  </tbody>\n",
              "</table>\n",
              "</div>"
            ],
            "text/plain": [
              "              Name  total_claimed\n",
              "0     Matthew Webb            191\n",
              "1  Donald Caldwell            174\n",
              "2   Anthony Garcia            162\n",
              "3     Scott Hunter            157\n",
              "4  Jennifer Nelson            139"
            ]
          },
          "execution_count": 19,
          "metadata": {},
          "output_type": "execute_result"
        }
      ],
      "source": [
        "query = \"\"\"\n",
        "SELECT r.name, SUM(f.quantity) AS total_claimed\n",
        "FROM receivers r\n",
        "JOIN claims c ON r.receiver_id = c.receiver_id\n",
        "JOIN food_listings f ON c.food_id = f.food_id\n",
        "GROUP BY r.name\n",
        "ORDER BY total_claimed DESC\n",
        "LIMIT 5;\n",
        "\"\"\"\n",
        "df_joined = pd.read_sql_query(query,conn)\n",
        "df_joined.head()"
      ]
    },
    {
      "cell_type": "markdown",
      "metadata": {
        "id": "A2UhkSTrNmM4"
      },
      "source": [
        "5.What is the total quantity of food available from all providers?\n"
      ]
    },
    {
      "cell_type": "code",
      "execution_count": 20,
      "metadata": {
        "colab": {
          "base_uri": "https://localhost:8080/",
          "height": 81
        },
        "id": "A9qejv-u5Qty",
        "outputId": "8f9a789f-7412-4af9-dbef-bab0d77a2f5f"
      },
      "outputs": [
        {
          "data": {
            "text/html": [
              "<div>\n",
              "<style scoped>\n",
              "    .dataframe tbody tr th:only-of-type {\n",
              "        vertical-align: middle;\n",
              "    }\n",
              "\n",
              "    .dataframe tbody tr th {\n",
              "        vertical-align: top;\n",
              "    }\n",
              "\n",
              "    .dataframe thead th {\n",
              "        text-align: right;\n",
              "    }\n",
              "</style>\n",
              "<table border=\"1\" class=\"dataframe\">\n",
              "  <thead>\n",
              "    <tr style=\"text-align: right;\">\n",
              "      <th></th>\n",
              "      <th>Location</th>\n",
              "      <th>total_available_food</th>\n",
              "    </tr>\n",
              "  </thead>\n",
              "  <tbody>\n",
              "    <tr>\n",
              "      <th>0</th>\n",
              "      <td>South Kellyville</td>\n",
              "      <td>1000</td>\n",
              "    </tr>\n",
              "  </tbody>\n",
              "</table>\n",
              "</div>"
            ],
            "text/plain": [
              "           Location  total_available_food\n",
              "0  South Kellyville                  1000"
            ]
          },
          "execution_count": 20,
          "metadata": {},
          "output_type": "execute_result"
        }
      ],
      "source": [
        "query = \"\"\"\n",
        "SELECT Location,COUNT(*) AS total_available_food\n",
        "FROM food_listings\n",
        "\"\"\"\n",
        "df_joined = pd.read_sql_query(query,conn)\n",
        "df_joined.head()"
      ]
    },
    {
      "cell_type": "markdown",
      "metadata": {
        "id": "b_YJMTcmPtND"
      },
      "source": [
        "6.Which city has the highest number of food listings?\n"
      ]
    },
    {
      "cell_type": "code",
      "execution_count": 21,
      "metadata": {
        "colab": {
          "base_uri": "https://localhost:8080/",
          "height": 81
        },
        "id": "LuvYOp6N5Qv6",
        "outputId": "6e1a7143-48c2-4fa6-c6e2-0c4cfe73edfc"
      },
      "outputs": [
        {
          "data": {
            "text/html": [
              "<div>\n",
              "<style scoped>\n",
              "    .dataframe tbody tr th:only-of-type {\n",
              "        vertical-align: middle;\n",
              "    }\n",
              "\n",
              "    .dataframe tbody tr th {\n",
              "        vertical-align: top;\n",
              "    }\n",
              "\n",
              "    .dataframe thead th {\n",
              "        text-align: right;\n",
              "    }\n",
              "</style>\n",
              "<table border=\"1\" class=\"dataframe\">\n",
              "  <thead>\n",
              "    <tr style=\"text-align: right;\">\n",
              "      <th></th>\n",
              "      <th>Location</th>\n",
              "      <th>CITY_COUNT</th>\n",
              "    </tr>\n",
              "  </thead>\n",
              "  <tbody>\n",
              "    <tr>\n",
              "      <th>0</th>\n",
              "      <td>South Kathryn</td>\n",
              "      <td>6</td>\n",
              "    </tr>\n",
              "  </tbody>\n",
              "</table>\n",
              "</div>"
            ],
            "text/plain": [
              "        Location  CITY_COUNT\n",
              "0  South Kathryn           6"
            ]
          },
          "execution_count": 21,
          "metadata": {},
          "output_type": "execute_result"
        }
      ],
      "source": [
        "query = \"\"\"\n",
        "SELECT Location,COUNT(*) AS CITY_COUNT\n",
        "FROM food_listings\n",
        "GROUP BY Location\n",
        "ORDER BY CITY_COUNT DESC\n",
        "LIMIT 1;\n",
        "\n",
        "\"\"\"\n",
        "df_joined = pd.read_sql_query(query,conn)\n",
        "df_joined.head()"
      ]
    },
    {
      "cell_type": "markdown",
      "metadata": {
        "id": "do_lf21GPtnR"
      },
      "source": [
        "7.What are the most commonly available food types?\n"
      ]
    },
    {
      "cell_type": "code",
      "execution_count": 22,
      "metadata": {
        "colab": {
          "base_uri": "https://localhost:8080/",
          "height": 143
        },
        "id": "OX7anh_v5QyO",
        "outputId": "e047a050-cb2e-4560-bc85-1fb60fcee000"
      },
      "outputs": [
        {
          "data": {
            "text/html": [
              "<div>\n",
              "<style scoped>\n",
              "    .dataframe tbody tr th:only-of-type {\n",
              "        vertical-align: middle;\n",
              "    }\n",
              "\n",
              "    .dataframe tbody tr th {\n",
              "        vertical-align: top;\n",
              "    }\n",
              "\n",
              "    .dataframe thead th {\n",
              "        text-align: right;\n",
              "    }\n",
              "</style>\n",
              "<table border=\"1\" class=\"dataframe\">\n",
              "  <thead>\n",
              "    <tr style=\"text-align: right;\">\n",
              "      <th></th>\n",
              "      <th>Food_Type</th>\n",
              "      <th>FOOD_TYPE_COUNT</th>\n",
              "    </tr>\n",
              "  </thead>\n",
              "  <tbody>\n",
              "    <tr>\n",
              "      <th>0</th>\n",
              "      <td>Vegetarian</td>\n",
              "      <td>336</td>\n",
              "    </tr>\n",
              "    <tr>\n",
              "      <th>1</th>\n",
              "      <td>Vegan</td>\n",
              "      <td>334</td>\n",
              "    </tr>\n",
              "    <tr>\n",
              "      <th>2</th>\n",
              "      <td>Non-Vegetarian</td>\n",
              "      <td>330</td>\n",
              "    </tr>\n",
              "  </tbody>\n",
              "</table>\n",
              "</div>"
            ],
            "text/plain": [
              "        Food_Type  FOOD_TYPE_COUNT\n",
              "0      Vegetarian              336\n",
              "1           Vegan              334\n",
              "2  Non-Vegetarian              330"
            ]
          },
          "execution_count": 22,
          "metadata": {},
          "output_type": "execute_result"
        }
      ],
      "source": [
        "query = \"\"\"\n",
        "SELECT food_type,Count(*) AS FOOD_TYPE_COUNT\n",
        "FROM food_listings\n",
        "GROUP BY food_type\n",
        "ORDER BY FOOD_TYPE_COUNT DESC\n",
        "\"\"\"\n",
        "df_joined = pd.read_sql_query(query,conn)\n",
        "df_joined.head()"
      ]
    },
    {
      "cell_type": "markdown",
      "metadata": {
        "id": "VyGd8FPAPuIH"
      },
      "source": [
        "8.How many food claims have been made for each food item?\n",
        "\n"
      ]
    },
    {
      "cell_type": "code",
      "execution_count": 23,
      "metadata": {
        "colab": {
          "base_uri": "https://localhost:8080/",
          "height": 143
        },
        "id": "CHS7TwOX5Q0C",
        "outputId": "adfed3ba-e05f-4921-f635-18d13e5e4757"
      },
      "outputs": [
        {
          "data": {
            "text/html": [
              "<div>\n",
              "<style scoped>\n",
              "    .dataframe tbody tr th:only-of-type {\n",
              "        vertical-align: middle;\n",
              "    }\n",
              "\n",
              "    .dataframe tbody tr th {\n",
              "        vertical-align: top;\n",
              "    }\n",
              "\n",
              "    .dataframe thead th {\n",
              "        text-align: right;\n",
              "    }\n",
              "</style>\n",
              "<table border=\"1\" class=\"dataframe\">\n",
              "  <thead>\n",
              "    <tr style=\"text-align: right;\">\n",
              "      <th></th>\n",
              "      <th>Food_Type</th>\n",
              "      <th>Count(claim_id)</th>\n",
              "    </tr>\n",
              "  </thead>\n",
              "  <tbody>\n",
              "    <tr>\n",
              "      <th>0</th>\n",
              "      <td>Non-Vegetarian</td>\n",
              "      <td>331</td>\n",
              "    </tr>\n",
              "    <tr>\n",
              "      <th>1</th>\n",
              "      <td>Vegan</td>\n",
              "      <td>319</td>\n",
              "    </tr>\n",
              "    <tr>\n",
              "      <th>2</th>\n",
              "      <td>Vegetarian</td>\n",
              "      <td>350</td>\n",
              "    </tr>\n",
              "  </tbody>\n",
              "</table>\n",
              "</div>"
            ],
            "text/plain": [
              "        Food_Type  Count(claim_id)\n",
              "0  Non-Vegetarian              331\n",
              "1           Vegan              319\n",
              "2      Vegetarian              350"
            ]
          },
          "execution_count": 23,
          "metadata": {},
          "output_type": "execute_result"
        }
      ],
      "source": [
        "query = \"\"\"\n",
        "SELECT food_type,Count(claim_id)\n",
        "FROM food_listings f\n",
        "JOIN claims c ON f.food_id = c.food_id\n",
        "GROUP BY food_type;\n",
        "\"\"\"\n",
        "df_joined = pd.read_sql_query(query,conn)\n",
        "df_joined.head()"
      ]
    },
    {
      "cell_type": "markdown",
      "metadata": {
        "id": "vxj5sTwtPuxw"
      },
      "source": [
        "9.Which provider has had the highest number of successful food claims?\n"
      ]
    },
    {
      "cell_type": "code",
      "execution_count": 27,
      "metadata": {
        "colab": {
          "base_uri": "https://localhost:8080/",
          "height": 579
        },
        "id": "RjZl0lE15Q2Y",
        "outputId": "c978569d-0f82-42b8-bc95-ee36b77ee6db"
      },
      "outputs": [
        {
          "data": {
            "text/html": [
              "<div>\n",
              "<style scoped>\n",
              "    .dataframe tbody tr th:only-of-type {\n",
              "        vertical-align: middle;\n",
              "    }\n",
              "\n",
              "    .dataframe tbody tr th {\n",
              "        vertical-align: top;\n",
              "    }\n",
              "\n",
              "    .dataframe thead th {\n",
              "        text-align: right;\n",
              "    }\n",
              "</style>\n",
              "<table border=\"1\" class=\"dataframe\">\n",
              "  <thead>\n",
              "    <tr style=\"text-align: right;\">\n",
              "      <th></th>\n",
              "      <th>Provider_ID</th>\n",
              "      <th>Status</th>\n",
              "    </tr>\n",
              "  </thead>\n",
              "  <tbody>\n",
              "  </tbody>\n",
              "</table>\n",
              "</div>"
            ],
            "text/plain": [
              "Empty DataFrame\n",
              "Columns: [Provider_ID, Status]\n",
              "Index: []"
            ]
          },
          "execution_count": 27,
          "metadata": {},
          "output_type": "execute_result"
        }
      ],
      "source": [
        "query = \"\"\"\n",
        "SELECT p.provider_id,c.Status\n",
        "FROM claims c\n",
        "JOIN food_listings f ON p.provider_id = f.provider_id\n",
        "JOIN providers p ON p.provider_id = f.provider_id\n",
        "WHERE Status =\"successful\"\n",
        "GROUP by status;\n",
        "\"\"\"\n",
        "df_joined = pd.read_sql_query(query,conn)\n",
        "df_joined.head()"
      ]
    },
    {
      "cell_type": "markdown",
      "metadata": {
        "id": "zNXD2sPfPve1"
      },
      "source": [
        "10.What percentage of food claims are completed vs. pending vs. canceled?\n"
      ]
    },
    {
      "cell_type": "code",
      "execution_count": 28,
      "metadata": {
        "colab": {
          "base_uri": "https://localhost:8080/",
          "height": 143
        },
        "id": "vI6TxXX35Q4u",
        "outputId": "ca698355-df0c-44ac-e498-8113ecaee954"
      },
      "outputs": [
        {
          "data": {
            "text/html": [
              "<div>\n",
              "<style scoped>\n",
              "    .dataframe tbody tr th:only-of-type {\n",
              "        vertical-align: middle;\n",
              "    }\n",
              "\n",
              "    .dataframe tbody tr th {\n",
              "        vertical-align: top;\n",
              "    }\n",
              "\n",
              "    .dataframe thead th {\n",
              "        text-align: right;\n",
              "    }\n",
              "</style>\n",
              "<table border=\"1\" class=\"dataframe\">\n",
              "  <thead>\n",
              "    <tr style=\"text-align: right;\">\n",
              "      <th></th>\n",
              "      <th>Status</th>\n",
              "      <th>percentage</th>\n",
              "    </tr>\n",
              "  </thead>\n",
              "  <tbody>\n",
              "    <tr>\n",
              "      <th>0</th>\n",
              "      <td>Cancelled</td>\n",
              "      <td>33.6</td>\n",
              "    </tr>\n",
              "    <tr>\n",
              "      <th>1</th>\n",
              "      <td>Completed</td>\n",
              "      <td>33.9</td>\n",
              "    </tr>\n",
              "    <tr>\n",
              "      <th>2</th>\n",
              "      <td>Pending</td>\n",
              "      <td>32.5</td>\n",
              "    </tr>\n",
              "  </tbody>\n",
              "</table>\n",
              "</div>"
            ],
            "text/plain": [
              "      Status  percentage\n",
              "0  Cancelled        33.6\n",
              "1  Completed        33.9\n",
              "2    Pending        32.5"
            ]
          },
          "metadata": {},
          "output_type": "display_data"
        }
      ],
      "source": [
        "query = \"\"\"\n",
        "SELECT status,COUNT(*) * 100.0 / (SELECT COUNT(*) FROM claims) AS percentage\n",
        "FROM claims\n",
        "GROUP BY status;\n",
        "\"\"\"\n",
        "df_joined = pd.read_sql_query(query,conn)\n",
        "display(df_joined.head())"
      ]
    },
    {
      "cell_type": "markdown",
      "metadata": {
        "id": "fdT7d-eePwGu"
      },
      "source": [
        "11.What is the average quantity of food claimed per receiver?\n"
      ]
    },
    {
      "cell_type": "code",
      "execution_count": 29,
      "metadata": {
        "colab": {
          "base_uri": "https://localhost:8080/",
          "height": 206
        },
        "id": "rEkP3xj85Q85",
        "outputId": "55bf6779-61de-4c04-c7ba-490c2af427f3"
      },
      "outputs": [
        {
          "data": {
            "text/html": [
              "<div>\n",
              "<style scoped>\n",
              "    .dataframe tbody tr th:only-of-type {\n",
              "        vertical-align: middle;\n",
              "    }\n",
              "\n",
              "    .dataframe tbody tr th {\n",
              "        vertical-align: top;\n",
              "    }\n",
              "\n",
              "    .dataframe thead th {\n",
              "        text-align: right;\n",
              "    }\n",
              "</style>\n",
              "<table border=\"1\" class=\"dataframe\">\n",
              "  <thead>\n",
              "    <tr style=\"text-align: right;\">\n",
              "      <th></th>\n",
              "      <th>Name</th>\n",
              "      <th>avg_claimed</th>\n",
              "    </tr>\n",
              "  </thead>\n",
              "  <tbody>\n",
              "    <tr>\n",
              "      <th>0</th>\n",
              "      <td>Aaron Keller</td>\n",
              "      <td>39.000000</td>\n",
              "    </tr>\n",
              "    <tr>\n",
              "      <th>1</th>\n",
              "      <td>Aaron Rios</td>\n",
              "      <td>21.000000</td>\n",
              "    </tr>\n",
              "    <tr>\n",
              "      <th>2</th>\n",
              "      <td>Aaron Scott</td>\n",
              "      <td>45.000000</td>\n",
              "    </tr>\n",
              "    <tr>\n",
              "      <th>3</th>\n",
              "      <td>Abigail Crawford</td>\n",
              "      <td>25.666667</td>\n",
              "    </tr>\n",
              "    <tr>\n",
              "      <th>4</th>\n",
              "      <td>Adam Browning</td>\n",
              "      <td>5.000000</td>\n",
              "    </tr>\n",
              "  </tbody>\n",
              "</table>\n",
              "</div>"
            ],
            "text/plain": [
              "               Name  avg_claimed\n",
              "0      Aaron Keller    39.000000\n",
              "1        Aaron Rios    21.000000\n",
              "2       Aaron Scott    45.000000\n",
              "3  Abigail Crawford    25.666667\n",
              "4     Adam Browning     5.000000"
            ]
          },
          "execution_count": 29,
          "metadata": {},
          "output_type": "execute_result"
        }
      ],
      "source": [
        "query = \"\"\"\n",
        "SELECT r.name, AVG(f.quantity) AS avg_claimed\n",
        "FROM claims c\n",
        "JOIN receivers r ON c.receiver_id = r.receiver_id\n",
        "JOIN food_listings f ON c.food_id = f.food_id\n",
        "GROUP BY r.name;\n",
        "\"\"\"\n",
        "df_joined = pd.read_sql_query(query,conn)\n",
        "df_joined.head()"
      ]
    },
    {
      "cell_type": "markdown",
      "metadata": {
        "id": "Ow2Lxi7PPwhO"
      },
      "source": [
        "12.Which meal type (breakfast, lunch, dinner, snacks) is claimed the most?\n"
      ]
    },
    {
      "cell_type": "code",
      "execution_count": 30,
      "metadata": {
        "colab": {
          "base_uri": "https://localhost:8080/",
          "height": 143
        },
        "id": "YNMUVwVKPkZr",
        "outputId": "8aba473d-f1a3-4d5c-f132-2927ad6cf3c2"
      },
      "outputs": [
        {
          "data": {
            "text/html": [
              "<div>\n",
              "<style scoped>\n",
              "    .dataframe tbody tr th:only-of-type {\n",
              "        vertical-align: middle;\n",
              "    }\n",
              "\n",
              "    .dataframe tbody tr th {\n",
              "        vertical-align: top;\n",
              "    }\n",
              "\n",
              "    .dataframe thead th {\n",
              "        text-align: right;\n",
              "    }\n",
              "</style>\n",
              "<table border=\"1\" class=\"dataframe\">\n",
              "  <thead>\n",
              "    <tr style=\"text-align: right;\">\n",
              "      <th></th>\n",
              "      <th>Meal_Type</th>\n",
              "      <th>total_claimed</th>\n",
              "    </tr>\n",
              "  </thead>\n",
              "  <tbody>\n",
              "    <tr>\n",
              "      <th>0</th>\n",
              "      <td>Breakfast</td>\n",
              "      <td>7363</td>\n",
              "    </tr>\n",
              "    <tr>\n",
              "      <th>1</th>\n",
              "      <td>Lunch</td>\n",
              "      <td>6373</td>\n",
              "    </tr>\n",
              "    <tr>\n",
              "      <th>2</th>\n",
              "      <td>Snacks</td>\n",
              "      <td>6336</td>\n",
              "    </tr>\n",
              "  </tbody>\n",
              "</table>\n",
              "</div>"
            ],
            "text/plain": [
              "   Meal_Type  total_claimed\n",
              "0  Breakfast           7363\n",
              "1      Lunch           6373\n",
              "2     Snacks           6336"
            ]
          },
          "execution_count": 30,
          "metadata": {},
          "output_type": "execute_result"
        }
      ],
      "source": [
        "query = \"\"\"\n",
        "SELECT f.meal_type, SUM(f.quantity) AS total_claimed\n",
        "FROM claims c\n",
        "JOIN food_listings f ON c.food_id = f.food_id\n",
        "GROUP BY f.meal_type\n",
        "ORDER BY total_claimed DESC\n",
        "LIMIT 3;\n",
        "\"\"\"\n",
        "df_joined = pd.read_sql_query(query,conn)\n",
        "df_joined.head()"
      ]
    },
    {
      "cell_type": "markdown",
      "metadata": {
        "id": "OnGKatnePxBy"
      },
      "source": [
        "13.What is the total quantity of food donated by each provider?\n"
      ]
    },
    {
      "cell_type": "code",
      "execution_count": 31,
      "metadata": {
        "colab": {
          "base_uri": "https://localhost:8080/",
          "height": 206
        },
        "id": "Nax0AHC-PkWz",
        "outputId": "6a0eeb49-50d8-4fe2-92c7-e01cb1b27ebc"
      },
      "outputs": [
        {
          "data": {
            "text/html": [
              "<div>\n",
              "<style scoped>\n",
              "    .dataframe tbody tr th:only-of-type {\n",
              "        vertical-align: middle;\n",
              "    }\n",
              "\n",
              "    .dataframe tbody tr th {\n",
              "        vertical-align: top;\n",
              "    }\n",
              "\n",
              "    .dataframe thead th {\n",
              "        text-align: right;\n",
              "    }\n",
              "</style>\n",
              "<table border=\"1\" class=\"dataframe\">\n",
              "  <thead>\n",
              "    <tr style=\"text-align: right;\">\n",
              "      <th></th>\n",
              "      <th>Name</th>\n",
              "      <th>total_donated</th>\n",
              "    </tr>\n",
              "  </thead>\n",
              "  <tbody>\n",
              "    <tr>\n",
              "      <th>0</th>\n",
              "      <td>Miller Inc</td>\n",
              "      <td>217</td>\n",
              "    </tr>\n",
              "    <tr>\n",
              "      <th>1</th>\n",
              "      <td>Barry Group</td>\n",
              "      <td>179</td>\n",
              "    </tr>\n",
              "    <tr>\n",
              "      <th>2</th>\n",
              "      <td>Evans, Wright and Mitchell</td>\n",
              "      <td>158</td>\n",
              "    </tr>\n",
              "    <tr>\n",
              "      <th>3</th>\n",
              "      <td>Smith Group</td>\n",
              "      <td>150</td>\n",
              "    </tr>\n",
              "    <tr>\n",
              "      <th>4</th>\n",
              "      <td>Campbell LLC</td>\n",
              "      <td>145</td>\n",
              "    </tr>\n",
              "  </tbody>\n",
              "</table>\n",
              "</div>"
            ],
            "text/plain": [
              "                         Name  total_donated\n",
              "0                  Miller Inc            217\n",
              "1                 Barry Group            179\n",
              "2  Evans, Wright and Mitchell            158\n",
              "3                 Smith Group            150\n",
              "4                Campbell LLC            145"
            ]
          },
          "execution_count": 31,
          "metadata": {},
          "output_type": "execute_result"
        }
      ],
      "source": [
        "query = \"\"\"\n",
        "SELECT p.name, SUM(f.quantity) AS total_donated\n",
        "FROM providers p\n",
        "JOIN food_listings f ON p.provider_id = f.provider_id\n",
        "GROUP BY p.name\n",
        "ORDER BY total_donated DESC;\n",
        "\"\"\"\n",
        "df_joined = pd.read_sql_query(query,conn)\n",
        "df_joined.head()"
      ]
    },
    {
      "cell_type": "code",
      "execution_count": 32,
      "metadata": {
        "colab": {
          "base_uri": "https://localhost:8080/"
        },
        "id": "zxhNxiV0s6oc",
        "outputId": "ab5d194f-9498-477f-d4d1-47039ba32e8f"
      },
      "outputs": [
        {
          "name": "stdout",
          "output_type": "stream",
          "text": [
            "Collecting streamlit\n",
            "  Using cached streamlit-1.49.1-py3-none-any.whl.metadata (9.5 kB)\n",
            "Collecting altair!=5.4.0,!=5.4.1,<6,>=4.0 (from streamlit)\n",
            "  Using cached altair-5.5.0-py3-none-any.whl.metadata (11 kB)\n",
            "Collecting blinker<2,>=1.5.0 (from streamlit)\n",
            "  Using cached blinker-1.9.0-py3-none-any.whl.metadata (1.6 kB)\n",
            "Requirement already satisfied: cachetools<7,>=4.0 in /Users/dathril/.pyenv/versions/3.10.8/lib/python3.10/site-packages (from streamlit) (5.5.2)\n",
            "Collecting click<9,>=7.0 (from streamlit)\n",
            "  Using cached click-8.2.1-py3-none-any.whl.metadata (2.5 kB)\n",
            "Requirement already satisfied: numpy<3,>=1.23 in /Users/dathril/.pyenv/versions/3.10.8/lib/python3.10/site-packages (from streamlit) (1.26.4)\n",
            "Requirement already satisfied: packaging<26,>=20 in /Users/dathril/.pyenv/versions/3.10.8/lib/python3.10/site-packages (from streamlit) (25.0)\n",
            "Requirement already satisfied: pandas<3,>=1.4.0 in /Users/dathril/.pyenv/versions/3.10.8/lib/python3.10/site-packages (from streamlit) (2.3.0)\n",
            "Requirement already satisfied: pillow<12,>=7.1.0 in /Users/dathril/.pyenv/versions/3.10.8/lib/python3.10/site-packages (from streamlit) (11.2.1)\n",
            "Requirement already satisfied: protobuf<7,>=3.20 in /Users/dathril/.pyenv/versions/3.10.8/lib/python3.10/site-packages (from streamlit) (4.25.8)\n",
            "Collecting pyarrow>=7.0 (from streamlit)\n",
            "  Downloading pyarrow-21.0.0-cp310-cp310-macosx_12_0_arm64.whl.metadata (3.3 kB)\n",
            "Requirement already satisfied: requests<3,>=2.27 in /Users/dathril/.pyenv/versions/3.10.8/lib/python3.10/site-packages (from streamlit) (2.32.4)\n",
            "Collecting tenacity<10,>=8.1.0 (from streamlit)\n",
            "  Using cached tenacity-9.1.2-py3-none-any.whl.metadata (1.2 kB)\n",
            "Collecting toml<2,>=0.10.1 (from streamlit)\n",
            "  Using cached toml-0.10.2-py2.py3-none-any.whl.metadata (7.1 kB)\n",
            "Requirement already satisfied: typing-extensions<5,>=4.4.0 in /Users/dathril/.pyenv/versions/3.10.8/lib/python3.10/site-packages (from streamlit) (4.14.0)\n",
            "Collecting gitpython!=3.1.19,<4,>=3.0.7 (from streamlit)\n",
            "  Using cached gitpython-3.1.45-py3-none-any.whl.metadata (13 kB)\n",
            "Collecting pydeck<1,>=0.8.0b4 (from streamlit)\n",
            "  Using cached pydeck-0.9.1-py2.py3-none-any.whl.metadata (4.1 kB)\n",
            "Requirement already satisfied: tornado!=6.5.0,<7,>=6.0.3 in /Users/dathril/.pyenv/versions/3.10.8/lib/python3.10/site-packages (from streamlit) (6.5.1)\n",
            "Collecting jinja2 (from altair!=5.4.0,!=5.4.1,<6,>=4.0->streamlit)\n",
            "  Using cached jinja2-3.1.6-py3-none-any.whl.metadata (2.9 kB)\n",
            "Collecting jsonschema>=3.0 (from altair!=5.4.0,!=5.4.1,<6,>=4.0->streamlit)\n",
            "  Using cached jsonschema-4.25.1-py3-none-any.whl.metadata (7.6 kB)\n",
            "Collecting narwhals>=1.14.2 (from altair!=5.4.0,!=5.4.1,<6,>=4.0->streamlit)\n",
            "  Using cached narwhals-2.5.0-py3-none-any.whl.metadata (11 kB)\n",
            "Collecting gitdb<5,>=4.0.1 (from gitpython!=3.1.19,<4,>=3.0.7->streamlit)\n",
            "  Using cached gitdb-4.0.12-py3-none-any.whl.metadata (1.2 kB)\n",
            "Collecting smmap<6,>=3.0.1 (from gitdb<5,>=4.0.1->gitpython!=3.1.19,<4,>=3.0.7->streamlit)\n",
            "  Using cached smmap-5.0.2-py3-none-any.whl.metadata (4.3 kB)\n",
            "Requirement already satisfied: python-dateutil>=2.8.2 in /Users/dathril/.pyenv/versions/3.10.8/lib/python3.10/site-packages (from pandas<3,>=1.4.0->streamlit) (2.9.0.post0)\n",
            "Requirement already satisfied: pytz>=2020.1 in /Users/dathril/.pyenv/versions/3.10.8/lib/python3.10/site-packages (from pandas<3,>=1.4.0->streamlit) (2025.2)\n",
            "Requirement already satisfied: tzdata>=2022.7 in /Users/dathril/.pyenv/versions/3.10.8/lib/python3.10/site-packages (from pandas<3,>=1.4.0->streamlit) (2025.2)\n",
            "Requirement already satisfied: charset_normalizer<4,>=2 in /Users/dathril/.pyenv/versions/3.10.8/lib/python3.10/site-packages (from requests<3,>=2.27->streamlit) (3.4.2)\n",
            "Requirement already satisfied: idna<4,>=2.5 in /Users/dathril/.pyenv/versions/3.10.8/lib/python3.10/site-packages (from requests<3,>=2.27->streamlit) (3.10)\n",
            "Requirement already satisfied: urllib3<3,>=1.21.1 in /Users/dathril/.pyenv/versions/3.10.8/lib/python3.10/site-packages (from requests<3,>=2.27->streamlit) (2.4.0)\n",
            "Requirement already satisfied: certifi>=2017.4.17 in /Users/dathril/.pyenv/versions/3.10.8/lib/python3.10/site-packages (from requests<3,>=2.27->streamlit) (2025.4.26)\n",
            "Requirement already satisfied: MarkupSafe>=2.0 in /Users/dathril/.pyenv/versions/3.10.8/lib/python3.10/site-packages (from jinja2->altair!=5.4.0,!=5.4.1,<6,>=4.0->streamlit) (3.0.2)\n",
            "Collecting attrs>=22.2.0 (from jsonschema>=3.0->altair!=5.4.0,!=5.4.1,<6,>=4.0->streamlit)\n",
            "  Using cached attrs-25.3.0-py3-none-any.whl.metadata (10 kB)\n",
            "Collecting jsonschema-specifications>=2023.03.6 (from jsonschema>=3.0->altair!=5.4.0,!=5.4.1,<6,>=4.0->streamlit)\n",
            "  Using cached jsonschema_specifications-2025.9.1-py3-none-any.whl.metadata (2.9 kB)\n",
            "Collecting referencing>=0.28.4 (from jsonschema>=3.0->altair!=5.4.0,!=5.4.1,<6,>=4.0->streamlit)\n",
            "  Using cached referencing-0.36.2-py3-none-any.whl.metadata (2.8 kB)\n",
            "Collecting rpds-py>=0.7.1 (from jsonschema>=3.0->altair!=5.4.0,!=5.4.1,<6,>=4.0->streamlit)\n",
            "  Downloading rpds_py-0.27.1-cp310-cp310-macosx_11_0_arm64.whl.metadata (4.2 kB)\n",
            "Requirement already satisfied: six>=1.5 in /Users/dathril/.pyenv/versions/3.10.8/lib/python3.10/site-packages (from python-dateutil>=2.8.2->pandas<3,>=1.4.0->streamlit) (1.17.0)\n",
            "Using cached streamlit-1.49.1-py3-none-any.whl (10.0 MB)\n",
            "Using cached altair-5.5.0-py3-none-any.whl (731 kB)\n",
            "Using cached blinker-1.9.0-py3-none-any.whl (8.5 kB)\n",
            "Using cached click-8.2.1-py3-none-any.whl (102 kB)\n",
            "Using cached gitpython-3.1.45-py3-none-any.whl (208 kB)\n",
            "Using cached gitdb-4.0.12-py3-none-any.whl (62 kB)\n",
            "Using cached pydeck-0.9.1-py2.py3-none-any.whl (6.9 MB)\n",
            "Using cached smmap-5.0.2-py3-none-any.whl (24 kB)\n",
            "Using cached tenacity-9.1.2-py3-none-any.whl (28 kB)\n",
            "Using cached toml-0.10.2-py2.py3-none-any.whl (16 kB)\n",
            "Using cached jinja2-3.1.6-py3-none-any.whl (134 kB)\n",
            "Using cached jsonschema-4.25.1-py3-none-any.whl (90 kB)\n",
            "Using cached attrs-25.3.0-py3-none-any.whl (63 kB)\n",
            "Using cached jsonschema_specifications-2025.9.1-py3-none-any.whl (18 kB)\n",
            "Using cached narwhals-2.5.0-py3-none-any.whl (407 kB)\n",
            "Downloading pyarrow-21.0.0-cp310-cp310-macosx_12_0_arm64.whl (31.2 MB)\n",
            "\u001b[2K   \u001b[90m━━━━━━━━━━━━━━━━━━━━━━━━━━━━━━━━━━━━━━━━\u001b[0m \u001b[32m31.2/31.2 MB\u001b[0m \u001b[31m5.3 MB/s\u001b[0m  \u001b[33m0:00:06\u001b[0mm0:00:01\u001b[0m00:01\u001b[0m\n",
            "\u001b[?25hUsing cached referencing-0.36.2-py3-none-any.whl (26 kB)\n",
            "Downloading rpds_py-0.27.1-cp310-cp310-macosx_11_0_arm64.whl (353 kB)\n",
            "Installing collected packages: toml, tenacity, smmap, rpds-py, pyarrow, narwhals, jinja2, click, blinker, attrs, referencing, pydeck, gitdb, jsonschema-specifications, gitpython, jsonschema, altair, streamlit\n",
            "\u001b[2K   \u001b[90m━━━━━━━━━━━━━━━━━━━━━━━━━━━━━━━━━━━━━━━━\u001b[0m \u001b[32m18/18\u001b[0m [streamlit]18\u001b[0m [streamlit]g]\n",
            "\u001b[1A\u001b[2KSuccessfully installed altair-5.5.0 attrs-25.3.0 blinker-1.9.0 click-8.2.1 gitdb-4.0.12 gitpython-3.1.45 jinja2-3.1.6 jsonschema-4.25.1 jsonschema-specifications-2025.9.1 narwhals-2.5.0 pyarrow-21.0.0 pydeck-0.9.1 referencing-0.36.2 rpds-py-0.27.1 smmap-5.0.2 streamlit-1.49.1 tenacity-9.1.2 toml-0.10.2\n"
          ]
        }
      ],
      "source": [
        "!pip install streamlit"
      ]
    },
    {
      "cell_type": "code",
      "execution_count": 33,
      "metadata": {
        "colab": {
          "base_uri": "https://localhost:8080/"
        },
        "id": "f23JoQdNPkQl",
        "outputId": "d24edd11-bd41-42e3-c7a0-6e9c25386b9d"
      },
      "outputs": [
        {
          "name": "stderr",
          "output_type": "stream",
          "text": [
            "2025-09-14 01:47:54.751 WARNING streamlit.runtime.scriptrunner_utils.script_run_context: Thread 'MainThread': missing ScriptRunContext! This warning can be ignored when running in bare mode.\n",
            "2025-09-14 01:47:54.751 WARNING streamlit.runtime.scriptrunner_utils.script_run_context: Thread 'MainThread': missing ScriptRunContext! This warning can be ignored when running in bare mode.\n",
            "2025-09-14 01:47:54.787 \n",
            "  \u001b[33m\u001b[1mWarning:\u001b[0m to view this Streamlit app on a browser, run it with the following\n",
            "  command:\n",
            "\n",
            "    streamlit run /Users/dathril/.pyenv/versions/3.10.8/lib/python3.10/site-packages/ipykernel_launcher.py [ARGUMENTS]\n",
            "2025-09-14 01:47:54.787 Thread 'MainThread': missing ScriptRunContext! This warning can be ignored when running in bare mode.\n",
            "2025-09-14 01:47:54.787 Thread 'MainThread': missing ScriptRunContext! This warning can be ignored when running in bare mode.\n",
            "2025-09-14 01:47:54.788 Thread 'MainThread': missing ScriptRunContext! This warning can be ignored when running in bare mode.\n",
            "2025-09-14 01:47:54.788 Thread 'MainThread': missing ScriptRunContext! This warning can be ignored when running in bare mode.\n",
            "2025-09-14 01:47:54.788 Thread 'MainThread': missing ScriptRunContext! This warning can be ignored when running in bare mode.\n",
            "2025-09-14 01:47:54.789 Thread 'MainThread': missing ScriptRunContext! This warning can be ignored when running in bare mode.\n",
            "2025-09-14 01:47:54.789 Thread 'MainThread': missing ScriptRunContext! This warning can be ignored when running in bare mode.\n",
            "2025-09-14 01:47:54.789 Thread 'MainThread': missing ScriptRunContext! This warning can be ignored when running in bare mode.\n",
            "2025-09-14 01:47:54.789 Thread 'MainThread': missing ScriptRunContext! This warning can be ignored when running in bare mode.\n",
            "2025-09-14 01:47:54.790 Session state does not function when running a script without `streamlit run`\n",
            "2025-09-14 01:47:54.790 Thread 'MainThread': missing ScriptRunContext! This warning can be ignored when running in bare mode.\n",
            "2025-09-14 01:47:54.790 Thread 'MainThread': missing ScriptRunContext! This warning can be ignored when running in bare mode.\n",
            "2025-09-14 01:47:54.790 Thread 'MainThread': missing ScriptRunContext! This warning can be ignored when running in bare mode.\n",
            "2025-09-14 01:47:54.791 Thread 'MainThread': missing ScriptRunContext! This warning can be ignored when running in bare mode.\n",
            "2025-09-14 01:47:54.791 Thread 'MainThread': missing ScriptRunContext! This warning can be ignored when running in bare mode.\n",
            "2025-09-14 01:47:54.791 Thread 'MainThread': missing ScriptRunContext! This warning can be ignored when running in bare mode.\n",
            "2025-09-14 01:47:56.583 Thread 'MainThread': missing ScriptRunContext! This warning can be ignored when running in bare mode.\n",
            "2025-09-14 01:47:56.584 Thread 'MainThread': missing ScriptRunContext! This warning can be ignored when running in bare mode.\n",
            "2025-09-14 01:47:56.584 Thread 'MainThread': missing ScriptRunContext! This warning can be ignored when running in bare mode.\n",
            "2025-09-14 01:47:56.585 Thread 'MainThread': missing ScriptRunContext! This warning can be ignored when running in bare mode.\n",
            "2025-09-14 01:47:56.585 Thread 'MainThread': missing ScriptRunContext! This warning can be ignored when running in bare mode.\n",
            "2025-09-14 01:47:56.586 Thread 'MainThread': missing ScriptRunContext! This warning can be ignored when running in bare mode.\n",
            "2025-09-14 01:47:56.586 Thread 'MainThread': missing ScriptRunContext! This warning can be ignored when running in bare mode.\n",
            "2025-09-14 01:47:56.586 Thread 'MainThread': missing ScriptRunContext! This warning can be ignored when running in bare mode.\n",
            "2025-09-14 01:47:56.586 Thread 'MainThread': missing ScriptRunContext! This warning can be ignored when running in bare mode.\n"
          ]
        },
        {
          "data": {
            "text/plain": [
              "DeltaGenerator(_root_container=1, _parent=DeltaGenerator())"
            ]
          },
          "execution_count": 33,
          "metadata": {},
          "output_type": "execute_result"
        }
      ],
      "source": [
        "import streamlit as st\n",
        "import pandas as pd\n",
        "import sqlite3\n",
        "\n",
        "# -----------------------------\n",
        "# Connect to SQLite DB\n",
        "# -----------------------------\n",
        "conn = sqlite3.connect(\"food_donation.db\")\n",
        "\n",
        "st.set_page_config(page_title=\"🍴 Local Food Wastage Management\", layout=\"wide\")\n",
        "\n",
        "st.title(\"🍴 Local Food Wastage Management System\")\n",
        "st.markdown(\"Analyze and manage surplus food distribution using SQL + Streamlit\")\n",
        "\n",
        "# -----------------------------\n",
        "# Sidebar Navigation\n",
        "# -----------------------------\n",
        "menu = [\"Providers\", \"Receivers\", \"Food Listings\", \"Claims\", \"Insights\"]\n",
        "choice = st.sidebar.radio(\"Navigate\", menu)\n",
        "\n",
        "# -----------------------------\n",
        "# Providers\n",
        "# -----------------------------\n",
        "if choice == \"Providers\":\n",
        "    st.subheader(\"📌 Providers Data\")\n",
        "    df = pd.read_sql_query(\"SELECT * FROM providers;\", conn)\n",
        "    st.dataframe(df)\n",
        "\n",
        "# -----------------------------\n",
        "# Receivers\n",
        "# -----------------------------\n",
        "elif choice == \"Receivers\":\n",
        "    st.subheader(\"📌 Receivers Data\")\n",
        "    df = pd.read_sql_query(\"SELECT * FROM receivers;\", conn)\n",
        "    st.dataframe(df)\n",
        "\n",
        "# -----------------------------\n",
        "# Food Listings\n",
        "# -----------------------------\n",
        "elif choice == \"Food Listings\":\n",
        "    st.subheader(\"📌 Food Listings Data\")\n",
        "    df = pd.read_sql_query(\"SELECT * FROM food_listings;\", conn)\n",
        "    st.dataframe(df)\n",
        "\n",
        "# -----------------------------\n",
        "# Claims\n",
        "# -----------------------------\n",
        "elif choice == \"Claims\":\n",
        "    st.subheader(\"📌 Claims Data\")\n",
        "    df = pd.read_sql_query(\"SELECT * FROM claims;\", conn)\n",
        "    st.dataframe(df)\n",
        "\n",
        "# -----------------------------\n",
        "# Insights (SQL Queries)\n",
        "# -----------------------------\n",
        "elif choice == \"Insights\":\n",
        "    st.subheader(\"📊 Analysis & Insights\")\n",
        "\n",
        "    # 1. Providers per city\n",
        "    q1 = \"SELECT city, COUNT(*) AS total_providers FROM providers GROUP BY city;\"\n",
        "    st.write(\"**Food Providers per City**\")\n",
        "    st.dataframe(pd.read_sql_query(q1, conn))\n",
        "\n",
        "    # 2. Receivers per city\n",
        "    q2 = \"SELECT city, COUNT(*) AS total_receivers FROM receivers GROUP BY city;\"\n",
        "    st.write(\"**Food Receivers per City**\")\n",
        "    st.dataframe(pd.read_sql_query(q2, conn))\n",
        "\n",
        "    # 3. Provider type contribution\n",
        "    q3 = \"\"\"\n",
        "    SELECT provider_type, SUM(quantity) AS total_contribution\n",
        "    FROM food_listings\n",
        "    GROUP BY provider_type\n",
        "    ORDER BY total_contribution DESC;\n",
        "    \"\"\"\n",
        "    st.write(\"**Food Contribution by Provider Type**\")\n",
        "    st.bar_chart(pd.read_sql_query(q3, conn).set_index(\"provider_type\"))\n",
        "\n",
        "    # 4. Receivers with most claims\n",
        "    q4 = \"\"\"\n",
        "    SELECT r.name, SUM(f.quantity) AS total_claimed\n",
        "    FROM receivers r\n",
        "    JOIN claims c ON r.receiver_id = c.receiver_id\n",
        "    JOIN food_listings f ON c.food_id = f.food_id\n",
        "    GROUP BY r.name\n",
        "    ORDER BY total_claimed DESC\n",
        "    LIMIT 5;\n",
        "    \"\"\"\n",
        "    st.write(\"**Top 5 Receivers by Total Food Claimed**\")\n",
        "    st.dataframe(pd.read_sql_query(q4, conn))\n",
        "\n",
        "    # 5. Total quantity available\n",
        "    q5 = \"SELECT SUM(quantity) AS total_available FROM food_listings;\"\n",
        "    st.metric(\"Total Available Food\", int(pd.read_sql_query(q5, conn)[\"total_available\"][0]))\n",
        "\n",
        "    # 6. City with highest food listings\n",
        "    q6 = \"\"\"\n",
        "    SELECT city, COUNT(*) AS total_listings\n",
        "    FROM food_listings\n",
        "    GROUP BY city\n",
        "    ORDER BY total_listings DESC\n",
        "    LIMIT 1;\n",
        "    \"\"\"\n",
        "    st.write(\"**City with Highest Food Listings**\")\n",
        "    st.dataframe(pd.read_sql_query(q6, conn))\n",
        "\n",
        "    # 7. Most common food types\n",
        "    q7 = \"\"\"\n",
        "    SELECT food_type, COUNT(*) AS count_food\n",
        "    FROM food_listings\n",
        "    GROUP BY food_type\n",
        "    ORDER BY count_food DESC;\n",
        "    \"\"\"\n",
        "    st.write(\"**Most Common Food Types**\")\n",
        "    st.bar_chart(pd.read_sql_query(q7, conn).set_index(\"food_type\"))\n",
        "\n",
        "    # 8. Claims per food item\n",
        "    q8 = \"\"\"\n",
        "    SELECT f.food_name, COUNT(c.claim_id) AS total_claims\n",
        "    FROM claims c\n",
        "    JOIN food_listings f ON c.food_id = f.food_id\n",
        "    GROUP BY f.food_name\n",
        "    ORDER BY total_claims DESC;\n",
        "    \"\"\"\n",
        "    st.write(\"**Food Claims per Item**\")\n",
        "    st.dataframe(pd.read_sql_query(q8, conn))\n",
        "\n",
        "    # 9. Provider with most successful claims\n",
        "    q9 = \"\"\"\n",
        "    SELECT p.name, COUNT(c.claim_id) AS successful_claims\n",
        "    FROM claims c\n",
        "    JOIN providers p ON c.provider_id = p.provider_id\n",
        "    WHERE c.status = 'Completed'\n",
        "    GROUP BY p.name\n",
        "    ORDER BY successful_claims DESC\n",
        "    LIMIT 1;\n",
        "    \"\"\"\n",
        "    st.write(\"**Provider with Most Successful Claims**\")\n",
        "    st.dataframe(pd.read_sql_query(q9, conn))\n",
        "\n",
        "    # 10. Claim status percentages\n",
        "    q10 = \"\"\"\n",
        "    SELECT status, COUNT(*) * 100.0 / (SELECT COUNT(*) FROM claims) AS percentage\n",
        "    FROM claims\n",
        "    GROUP BY status;\n",
        "    \"\"\"\n",
        "    st.write(\"**Claim Status Distribution (%)**\")\n",
        "    st.dataframe(pd.read_sql_query(q10, conn))\n",
        "\n",
        "    # 11. Avg quantity claimed per receiver\n",
        "    q11 = \"\"\"\n",
        "    SELECT r.name, AVG(f.quantity) AS avg_claimed\n",
        "    FROM claims c\n",
        "    JOIN receivers r ON c.receiver_id = r.receiver_id\n",
        "    JOIN food_listings f ON c.food_id = f.food_id\n",
        "    GROUP BY r.name;\n",
        "    \"\"\"\n",
        "    st.write(\"**Average Quantity Claimed per Receiver**\")\n",
        "    st.dataframe(pd.read_sql_query(q11, conn))\n",
        "\n",
        "    # 12. Most claimed meal type\n",
        "    q12 = \"\"\"\n",
        "    SELECT f.meal_type, SUM(f.quantity) AS total_claimed\n",
        "    FROM claims c\n",
        "    JOIN food_listings f ON c.food_id = f.food_id\n",
        "    GROUP BY f.meal_type\n",
        "    ORDER BY total_claimed DESC\n",
        "    LIMIT 1;\n",
        "    \"\"\"\n",
        "    st.write(\"**Most Claimed Meal Type**\")\n",
        "    st.dataframe(pd.read_sql_query(q12, conn))\n",
        "\n",
        "    # 13. Total food donated by each provider\n",
        "    q13 = \"\"\"\n",
        "    SELECT p.name, SUM(f.quantity) AS total_donated\n",
        "    FROM providers p\n",
        "    JOIN food_listings f ON p.provider_id = f.provider_id\n",
        "    GROUP BY p.name\n",
        "    ORDER BY total_donated DESC;\n",
        "    \"\"\"\n",
        "    st.write(\"**Total Quantity Donated by Provider**\")\n",
        "    st.dataframe(pd.read_sql_query(q13, conn))\n",
        "\n",
        "st.sidebar.markdown(\"---\")\n",
        "st.sidebar.info(\"Developed with ❤️ using Python, SQL & Streamlit\")\n"
      ]
    },
    {
      "cell_type": "code",
      "execution_count": null,
      "metadata": {
        "id": "dtXry1jtPkMb"
      },
      "outputs": [],
      "source": []
    },
    {
      "cell_type": "code",
      "execution_count": null,
      "metadata": {
        "id": "Vq83k2ZDPkKC"
      },
      "outputs": [],
      "source": []
    },
    {
      "cell_type": "code",
      "execution_count": null,
      "metadata": {
        "id": "AYdJ4FsnPkG-"
      },
      "outputs": [],
      "source": []
    },
    {
      "cell_type": "code",
      "execution_count": null,
      "metadata": {
        "id": "7d7af088"
      },
      "outputs": [],
      "source": []
    }
  ],
  "metadata": {
    "colab": {
      "provenance": []
    },
    "kernelspec": {
      "display_name": "Python 3",
      "name": "python3"
    },
    "language_info": {
      "codemirror_mode": {
        "name": "ipython",
        "version": 3
      },
      "file_extension": ".py",
      "mimetype": "text/x-python",
      "name": "python",
      "nbconvert_exporter": "python",
      "pygments_lexer": "ipython3",
      "version": "3.10.8"
    }
  },
  "nbformat": 4,
  "nbformat_minor": 0
}
